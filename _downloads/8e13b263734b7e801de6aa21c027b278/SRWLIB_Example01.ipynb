{
  "cells": [
    {
      "cell_type": "code",
      "execution_count": null,
      "metadata": {
        "collapsed": false
      },
      "outputs": [],
      "source": [
        "%matplotlib inline"
      ]
    },
    {
      "cell_type": "markdown",
      "metadata": {},
      "source": [
        "\nSRW Example #1\n**************\n\nProblem\n-------\nCalculating electron trajectory in 3D magnetic field of an APPLE-II undulator\n\nExample Solution\n----------------\n"
      ]
    },
    {
      "cell_type": "code",
      "execution_count": null,
      "metadata": {
        "collapsed": false
      },
      "outputs": [],
      "source": [
        "from __future__ import print_function #Python 2.7 compatibility\nfrom srwpy.srwlib import *\nfrom srwpy.uti_plot import *\nimport os\n\nprint('SRWLIB Python Example # 1:')\nprint('Calculating electron trajectory in 3D magnetic field of an APPLE-II undulator')\n\n#**********************Input Parameters:\nstrExDataFolderName = 'data_example_01' #example data sub-folder name\n#arFldInFileNames = ['epu49term1.dat', 'epu49cen.dat', 'epu49term2.dat'] #3D Magnetic Field data file names\narFldInFileNames = ['epu49HEtot.dat'] #3D Magnetic Field data file names\nstrTrajOutFileName = 'ex01_res_traj_off.dat' #file name for output trajectory data\n\nnumPer = 40 #Number of ID Periods (without counting for terminations)\nxcID = 0 #Transverse Coordinates of ID Center [m]\nycID = 0\nzcID = 0 #Longitudinal Coordinate of ID Center [m]\n\npart = SRWLParticle()\npart.x = 0.004 #Initial Transverse Coordinates (initial Longitudinal Coordinate will be defined later on) [m]\npart.y = 0.0005\npart.xp = 0 #Initial Transverse Velocities\npart.yp = 0\npart.gamma = 3/0.51099890221e-03 #Relative Energy\npart.relE0 = 1 #Electron Rest Mass\npart.nq = -1 #Electron Charge\n\nnpTraj = 10001 #Number of Points for Trajectory calculation\nfieldInterpMeth = 4 #2 #Magnetic Field Interpolation Method, to be entered into 3D field structures below (to be used e.g. for trajectory calculation):\n#1- bi-linear (3D), 2- bi-quadratic (3D), 3- bi-cubic (3D), 4- 1D cubic spline (longitudinal) + 2D bi-cubic\narPrecPar = [1] #General Precision parameters for Trajectory calculation:\n#[0]: integration method No:\n    #1- fourth-order Runge-Kutta (precision is driven by number of points)\n    #2- fifth-order Runge-Kutta\n#[1],[2],[3],[4],[5]: absolute precision values for X[m],X'[rad],Y[m],Y'[rad],Z[m] (yet to be tested!!) - to be taken into account only for R-K fifth order or higher\n#[6]: tolerance (default = 1) for R-K fifth order or higher\n#[7]: max. number of auto-steps for R-K fifth order or higher (default = 5000)\n\n#**********************Auxiliary function to read tabulated 3D Magnetic Field data from ASCII file:\ndef AuxReadInMagFld3D(filePath, sCom):\n    f = open(filePath, 'r')\n    f.readline() #1st line: just pass\n    xStart = float(f.readline().split(sCom, 2)[1]) #2nd line: initial X position [m]; it will not actually be used\n    xStep = float(f.readline().split(sCom, 2)[1]) #3rd line: step vs X [m]\n    xNp = int(f.readline().split(sCom, 2)[1]) #4th line: number of points vs X\n    yStart = float(f.readline().split(sCom, 2)[1]) #5th line: initial Y position [m]; it will not actually be used\n    yStep = float(f.readline().split(sCom, 2)[1]) #6th line: step vs Y [m]\n    yNp = int(f.readline().split(sCom, 2)[1]) #7th line: number of points vs Y\n    zStart = float(f.readline().split(sCom, 2)[1]) #8th line: initial Z position [m]; it will not actually be used\n    zStep = float(f.readline().split(sCom, 2)[1]) #9th line: step vs Z [m]\n    zNp = int(f.readline().split(sCom, 2)[1]) #10th line: number of points vs Z\n    totNp = xNp*yNp*zNp\n    locArBx = array('d', [0]*totNp)\n    locArBy = array('d', [0]*totNp)\n    locArBz = array('d', [0]*totNp)\n    for i in range(totNp):\n        curLineParts = f.readline().split('\\t')\n        locArBx[i] = float(curLineParts[0])\n        locArBy[i] = float(curLineParts[1])\n        locArBz[i] = float(curLineParts[2])\n    f.close()\n    xRange = xStep\n    if xNp > 1: xRange = (xNp - 1)*xStep\n    yRange = yStep\n    if yNp > 1: yRange = (yNp - 1)*yStep\n    zRange = zStep\n    if zNp > 1: zRange = (zNp - 1)*zStep\n    return SRWLMagFld3D(locArBx, locArBy, locArBz, xNp, yNp, zNp, xRange, yRange, zRange, 1)\n\n#**********************Defining Magnetic Field:\nmagFldCnt = SRWLMagFldC() #Container\n#magFldCnt.allocate(3) #Magnetic Field consists of 3 parts\nmagFldCnt.allocate(1) #Magnetic Field consists of 1 part\n\nprint('   Reading magnetic field data from files ... ', end='')\n#for i in range(3):\nfor i in range(1): \n    filePath = os.path.join(os.getcwd(), strExDataFolderName, arFldInFileNames[i])\n    magFldCnt.arMagFld[i] = AuxReadInMagFld3D(filePath, '#')\n    magFldCnt.arMagFld[i].interp = fieldInterpMeth\n    magFldCnt.arXc[i] = xcID\n    magFldCnt.arYc[i] = ycID\nprint('done')\n\n#magFldCnt.arMagFld[1].nRep = numPer #Central part of ID\nmagFldCnt.arMagFld[0].nRep = 1 #Central part of ID\n\n#per = magFldCnt.arMagFld[1].rz #Period length\n#magFldCnt.arZc = array('d', [zcID - 0.5*numPer*per - 0.5*(magFldCnt.arMagFld[0].rz), zcID, zcID + 0.5*numPer*per + 0.5*(magFldCnt.arMagFld[2].rz)])\n#part.z = zcID - (0.5*numPer + 1)*per - magFldCnt.arMagFld[0].rz #Initial Longitudinal Coordinate (set before the ID)\n\nmagFldCnt.arZc[0] = zcID\npart.z = zcID - 0.5*magFldCnt.arMagFld[0].rz\n\n#**********************Trajectory structure, where the results will be stored\npartTraj = SRWLPrtTrj()\npartTraj.partInitCond = part\n#partTraj.allocate(npTraj)\npartTraj.allocate(npTraj, True)\npartTraj.ctStart = 0 #Start Time for the calculation\n#partTraj.ctEnd = (numPer + 2)*per + magFldCnt.arMagFld[0].rz + magFldCnt.arMagFld[2].rz #End Time\npartTraj.ctEnd = magFldCnt.arMagFld[0].rz\n\n#**********************Calculation (SRWLIB function call)\nprint('   Performing calculation ... ', end='')\npartTraj = srwl.CalcPartTraj(partTraj, magFldCnt, arPrecPar)\nprint('done')\n\n#**********************Saving results to a file\nprint('   Saving trajectory data to a file ... ', end='')\npartTraj.save_ascii(os.path.join(os.getcwd(), strExDataFolderName, strTrajOutFileName))\nprint('done')\n\n#**********************Plotting results\nprint('   Plotting the results (blocks script execution; close any graph windows to proceed) ... ', end='')\nctMesh = [partTraj.ctStart, partTraj.ctEnd, partTraj.np]\nfor i in range(partTraj.np):\n    partTraj.arX[i] *= 1000\n    partTraj.arY[i] *= 1000\n    \nuti_plot1d(partTraj.arX, ctMesh, ['ct [m]', 'Horizontal Position [mm]'])\nuti_plot1d(partTraj.arY, ctMesh, ['ct [m]', 'Vertical Position [mm]'])\n\nuti_plot_show() #show all graphs (and block execution)\nprint('done')"
      ]
    }
  ],
  "metadata": {
    "kernelspec": {
      "display_name": "Python 3",
      "language": "python",
      "name": "python3"
    },
    "language_info": {
      "codemirror_mode": {
        "name": "ipython",
        "version": 3
      },
      "file_extension": ".py",
      "mimetype": "text/x-python",
      "name": "python",
      "nbconvert_exporter": "python",
      "pygments_lexer": "ipython3",
      "version": "3.7.1"
    }
  },
  "nbformat": 4,
  "nbformat_minor": 0
}