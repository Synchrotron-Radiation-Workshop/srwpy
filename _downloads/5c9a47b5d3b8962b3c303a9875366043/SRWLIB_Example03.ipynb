{
  "cells": [
    {
      "cell_type": "code",
      "execution_count": null,
      "metadata": {
        "collapsed": false
      },
      "outputs": [],
      "source": [
        "%matplotlib inline"
      ]
    },
    {
      "cell_type": "markdown",
      "metadata": {},
      "source": [
        "\nSRW Example #3\n**************\n\nProblem\n-------\nCalculating synchrotron (undulator) radiation emitted by an electron travelling\nin ellipsoidal undulator\n\nExample Solution\n----------------\n\n"
      ]
    },
    {
      "cell_type": "code",
      "execution_count": null,
      "metadata": {
        "collapsed": false
      },
      "outputs": [],
      "source": [
        "from __future__ import print_function #Python 2.7 compatibility\nfrom srwlib import *\nfrom uti_plot import *\nimport os\n\nprint('SRWLIB Python Example # 3:')\nprint('Calculating synchrotron (undulator) radiation emitted by an electron travelling in a helical undulator')\n\n#**********************Input Parameters:\nstrExDataFolderName = 'data_example_03' #example data sub-folder name\nstrTrajOutFileName = 'ex03_res_traj.dat' #file name for output trajectory data\nstrIntOutFileName1 = 'ex03_res_int1.dat' #file name for output SR intensity data\nstrIntOutFileName2 = 'ex03_res_int2.dat' #file name for output SR intensity data\n\n#***********Undulator\nnumPer = 40.5 #Number of ID Periods (without counting for terminations\nundPer = 0.049 #Period Length [m]\nBx = 0.57/3. #Peak Horizontal field [T]\nBy = 0.57 #Peak Vertical field [T]\nphBx = 0 #Initial Phase of the Horizontal field component\nphBy = 0 #Initial Phase of the Vertical field component\nsBx = -1 #Symmetry of the Horizontal field component vs Longitudinal position\nsBy = 1 #Symmetry of the Vertical field component vs Longitudinal position\nxcID = 0 #Transverse Coordinates of Undulator Center [m]\nycID = 0\nzcID = 0 #Longitudinal Coordinate of Undulator Center [m]\n\nund = SRWLMagFldU([SRWLMagFldH(1, 'v', By, phBy, sBy, 1), SRWLMagFldH(1, 'h', Bx, phBx, sBx, 1)], undPer, numPer) #Ellipsoidal Undulator\nmagFldCnt = SRWLMagFldC([und], array('d', [xcID]), array('d', [ycID]), array('d', [zcID])) #Container of all Field Elements\n\n#***********Electron Beam\nelecBeam = SRWLPartBeam()\nelecBeam.Iavg = 0.5 #Average Current [A]\nelecBeam.partStatMom1.x = 0. #Initial Transverse Coordinates (initial Longitudinal Coordinate will be defined later on) [m]\nelecBeam.partStatMom1.y = 0.\nelecBeam.partStatMom1.z = -0.5*undPer*(numPer + 4) #Initial Longitudinal Coordinate (set before the ID)\nelecBeam.partStatMom1.xp = 0 #Initial Relative Transverse Velocities\nelecBeam.partStatMom1.yp = 0\nelecBeam.partStatMom1.gamma = 3./0.51099890221e-03 #Relative Energy\n\n#***********Precision\nmeth = 1 #SR calculation method: 0- \"manual\", 1- \"auto-undulator\", 2- \"auto-wiggler\"\nrelPrec = 0.01 #relative precision\nzStartInteg = 0 #longitudinal position to start integration (effective if < zEndInteg)\nzEndInteg = 0 #longitudinal position to finish integration (effective if > zStartInteg)\nnpTraj = 20000 #Number of points for trajectory calculation \nuseTermin = 1 #Use \"terminating terms\" (i.e. asymptotic expansions at zStartInteg and zEndInteg) or not (1 or 0 respectively)\nsampFactNxNyForProp = 0 #sampling factor for adjusting nx, ny (effective if > 0)\narPrecPar = [meth, relPrec, zStartInteg, zEndInteg, npTraj, useTermin, sampFactNxNyForProp]\n\n#***********Wavefront\nwfr1 = SRWLWfr() #For spectrum vs photon energy\n\nwfr1.allocate(10000, 1, 1) #Numbers of points vs Photon Energy, Horizontal and Vertical Positions\nwfr1.mesh.zStart = 20. #Longitudinal Position [m] at which SR has to be calculated\nwfr1.mesh.eStart = 10. #Initial Photon Energy [eV]\nwfr1.mesh.eFin = 3000. #Final Photon Energy [eV]\nwfr1.mesh.xStart = 0. #Initial Horizontal Position [m]\nwfr1.mesh.xFin = 0 #Final Horizontal Position [m]\nwfr1.mesh.yStart = 0 #Initial Vertical Position [m]\nwfr1.mesh.yFin = 0 #Final Vertical Position [m]\nwfr1.partBeam = elecBeam\n\nwfr2 = SRWLWfr() #For intensity distribution at fixed photon energy\nwfr2.allocate(1, 101, 101) #Numbers of points vs Photon Energy, Horizontal and Vertical Positions\nwfr2.mesh.zStart = 20. #Longitudinal Position [m] at which SR has to be calculated\nwfr2.mesh.eStart = 1090. #Initial Photon Energy [eV]\nwfr2.mesh.eFin = 1090. #Final Photon Energy [eV]\nwfr2.mesh.xStart = -0.001 #Initial Horizontal Position [m]\nwfr2.mesh.xFin = 0.001 #Final Horizontal Position [m]\nwfr2.mesh.yStart = -0.001 #Initial Vertical Position [m]\nwfr2.mesh.yFin = 0.001 #Final Vertical Position [m]\nwfr2.partBeam = elecBeam\n\n#**********************Calculation (SRWLIB function calls)\nprint('   Performing Electric Field (spectrum vs photon energy) calculation ... ', end='')\nsrwl.CalcElecFieldSR(wfr1, 0, magFldCnt, arPrecPar)\nprint('done')\nprint('   Extracting Intensity from calculated Electric Field ... ', end='')\narI1 = array('f', [0]*wfr1.mesh.ne)\nsrwl.CalcIntFromElecField(arI1, wfr1, 6, 0, 0, wfr1.mesh.eStart, wfr1.mesh.xStart, wfr1.mesh.yStart)\nprint('done')\nprint('   Performing Electric Field (wavefront at fixed photon energy) calculation ... ', end='')\nsrwl.CalcElecFieldSR(wfr2, 0, magFldCnt, arPrecPar)\nprint('done')\nprint('   Extracting Intensity from calculated Electric Field ... ', end='')\narI2 = array('f', [0]*wfr2.mesh.nx*wfr2.mesh.ny) #\"flat\" array to take 2D intensity data\nsrwl.CalcIntFromElecField(arI2, wfr2, 6, 0, 3, wfr2.mesh.eStart, 0, 0)\nprint('done')\n\n#**********************Saving results to files\nprint('   Saving intensity data to files ... ', end='')\nsrwl_uti_save_intens_ascii(arI1, wfr1.mesh, os.path.join(os.getcwd(), strExDataFolderName, strIntOutFileName1), 0)\nsrwl_uti_save_intens_ascii(arI2, wfr2.mesh, os.path.join(os.getcwd(), strExDataFolderName, strIntOutFileName2), 0)\nprint('done')\n\n#**********************Plotting results (requires 3rd party graphics package)\nprint('   Plotting the results (blocks script execution; close any graph windows to proceed) ... ', end='')\nuti_plot1d(arI1, [wfr1.mesh.eStart, wfr1.mesh.eFin, wfr1.mesh.ne], ['Photon Energy [eV]', 'Intensity [ph/s/.1%bw/mm^2]', 'On-Axis Spectrum'])\nuti_plot2d(arI2, [1000*wfr2.mesh.xStart, 1000*wfr2.mesh.xFin, wfr2.mesh.nx], [1000*wfr2.mesh.yStart, 1000*wfr2.mesh.yFin, wfr2.mesh.ny], ['Horizontal Position [mm]', 'Vertical Position [mm]', 'Intensity at ' + str(wfr2.mesh.eStart) + ' eV'])\n\narI2x = array('f', [0]*wfr2.mesh.nx) #array to take 1D intensity data (vs X)\nsrwl.CalcIntFromElecField(arI2x, wfr2, 6, 0, 1, wfr2.mesh.eStart, 0, 0)\nuti_plot1d(arI2x, [1000*wfr2.mesh.xStart, 1000*wfr2.mesh.xFin, wfr2.mesh.nx], ['Horizontal Position [mm]', 'Intensity [ph/s/.1%bw/mm^2]', 'Intensity at ' + str(wfr2.mesh.eStart) + ' eV\\n(horizontal cut at x = 0)'])\n\narI2y = array('f', [0]*wfr2.mesh.ny) #array to take 1D intensity data (vs Y)\nsrwl.CalcIntFromElecField(arI2y, wfr2, 6, 0, 2, wfr2.mesh.eStart, 0, 0)\nuti_plot1d(arI2y, [1000*wfr2.mesh.yStart, 1000*wfr2.mesh.yFin, wfr2.mesh.ny], ['Vertical Position [mm]', 'Intensity [ph/s/.1%bw/mm^2]', 'Intensity at ' + str(wfr2.mesh.eStart) + ' eV\\n(vertical cut at y = 0)'])\n    \nuti_plot_show() #show all graphs (and block execution)\nprint('done')"
      ]
    }
  ],
  "metadata": {
    "kernelspec": {
      "display_name": "Python 3",
      "language": "python",
      "name": "python3"
    },
    "language_info": {
      "codemirror_mode": {
        "name": "ipython",
        "version": 3
      },
      "file_extension": ".py",
      "mimetype": "text/x-python",
      "name": "python",
      "nbconvert_exporter": "python",
      "pygments_lexer": "ipython3",
      "version": "3.6.3"
    }
  },
  "nbformat": 4,
  "nbformat_minor": 0
}