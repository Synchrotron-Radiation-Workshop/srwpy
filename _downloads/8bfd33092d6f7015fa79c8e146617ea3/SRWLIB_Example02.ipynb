{
  "cells": [
    {
      "cell_type": "code",
      "execution_count": null,
      "metadata": {
        "collapsed": false
      },
      "outputs": [],
      "source": [
        "%matplotlib inline"
      ]
    },
    {
      "cell_type": "markdown",
      "metadata": {},
      "source": [
        "\nSRW Example #2\n**************\n\nProblem\n-------\nCalculating electron trajectory in magnetic field of a segmented planar\nundulator\n\nExample Solution\n----------------\n\n"
      ]
    },
    {
      "cell_type": "code",
      "execution_count": null,
      "metadata": {
        "collapsed": false
      },
      "outputs": [],
      "source": [
        "from __future__ import print_function #Python 2.7 compatibility\nfrom srwlib import *\nfrom uti_plot import *\nimport os\n\nprint('SRWLIB Python Example # 2:')\nprint('Calculating electron trajectory in magnetic field of a segmented planar undulator with FODO lattice')\n\n#**********************Input Parameters\n#**********************Folder and File names\nstrExDataFolderName = 'data_example_02' #example data sub-folder name\nstrFldOutFileName = 'ex02_res_fld.dat' #file name for output (tabulated) magnetic field data\nstrTrajOutFileName = 'ex02_res_traj.dat' #file name for output trajectory data\n\n#**********************Initial Conditions for Particle Trajectory Calculation\npart = SRWLParticle()\npart.x = 0.0001 #Initial Transverse Coordinates (initial Longitudinal Coordinate will be defined later on) [m]\npart.y = 0.0001\npart.xp = 0 #Initial Transverse Velocities\npart.yp = 0\npart.gamma = 3/0.51099890221e-03 #Relative Energy\npart.relE0 = 1 #Electron Rest Mass\npart.nq = -1 #Electron Charge\n\nnpTraj = 20001 #Number of Points for Trajectory calculation\n\narPrecPar = [1] #General Precision parameters for Trajectory calculation:\n#[0]: integration method No:\n    #1- fourth-order Runge-Kutta (precision is driven by number of points)\n    #2- fifth-order Runge-Kutta\n#[1],[2],[3],[4],[5]: absolute precision values for X[m],X'[rad],Y[m],Y'[rad],Z[m] (yet to be tested!!) - to be taken into account only for R-K fifth order or higher\n#[6]: tolerance (default = 1) for R-K fifth order or higher\n#[7]: max. number of auto-steps for R-K fifth order or higher (default = 5000)\n\n#**********************Magnetic Field\nnumSegm = 5 #Number of ID Segments\nnumPer = 100 #Number of Periods in one Segment (without counting for terminations)\nundPer = 0.02 #Period Length [m]\nxcID = 0 #Transverse Coordinates of ID Center [m]\nycID = 0\nzcID = 0 #Longitudinal Coordinate of ID Center [m]\n\nund = SRWLMagFldU([SRWLMagFldH(1, 'v', 1.05, 0, 1)], undPer, numPer) #Undulator Segment\nqf = SRWLMagFldM(0.5, 2, 'n', 0.2) #Focusing Quad\nqd = SRWLMagFldM(-0.5, 2, 'n', 0.2) #Defocusing Quad\n\narZero = array('d', [0]*9)\nundLen = (numPer + 2)*undPer\ndistBwSegm = 0.4 #Distance between Undulator Segments\nundLenExt = undLen + distBwSegm\narZc = array('d', [-2*undLenExt, -1.5*undLenExt, -undLenExt, -0.5*undLenExt, 0, 0.5*undLenExt, undLenExt, 1.5*undLenExt, 2*undLenExt])\nmagFldCnt = SRWLMagFldC([und, qf, und, qd, und, qf, und, qd, und], arZero, arZero, arZc) #Container of all Field Elements\n\npart.z = arZc[0] - 0.5*undLenExt #Initial Longitudinal Coordinate (set before the ID)\n\nprint('   Tabulating Magnetic Field for display ... ', end='')\ndispBy = array('d', [0]*npTraj)\ndispMagFld3D = SRWLMagFld3D(_arBy=dispBy, _nx=1, _ny=1, _nz=npTraj, _rz=5*undLenExt)\nxDisp = part.x\nyDisp = part.y\ndispMagFldCnt = SRWLMagFldC([dispMagFld3D], array('d', [xDisp]), array('d', [yDisp]), array('d', [0]))\nsrwl.CalcMagnField(dispMagFldCnt, magFldCnt)\nprint('done')\n\n#**********************Trajectory structure, where the results will be stored\npartTraj = SRWLPrtTrj()\npartTraj.partInitCond = part\n#partTraj.allocate(npTraj)\npartTraj.allocate(npTraj, True) #True ensures that field along trajectory will also be extracted \npartTraj.ctStart = 0 #\"Start Time\" (c*t) for the calculation (0 corresponds to the time moment for which the initial conditions are defined)\npartTraj.ctEnd = partTraj.ctStart + 5*undLenExt #End Time\n\n#**********************Trajectory Calculation (SRWLIB function call)\nprint('   Performing calculation ... ', end='')\npartTraj = srwl.CalcPartTraj(partTraj, magFldCnt, arPrecPar)\nprint('done')\n\n#**********************Saving results\n#Auxiliary function to write tabulated Magnetic Field data to ASCII file:\ndef AuxSaveMagFldData(dispFld3D, xc, yc, zc, filePath):\n    \n    hx = 0 if(dispFld3D.nx <= 1) else dispFld3D.rx/(dispFld3D.nx - 1)\n    hy = 0 if(dispFld3D.ny <= 1) else dispFld3D.ry/(dispFld3D.ny - 1)\n    hz = 0 if(dispFld3D.nz <= 1) else dispFld3D.rz/(dispFld3D.nz - 1)\n    \n    arXdef = False\n    if((dispFld3D.arX != None) and (len(dispFld3D.arX) == dispFld3D.nx)):\n        arXdef = True\n    arYdef = False\n    if((dispFld3D.arY != None) and (len(dispFld3D.arY) == dispFld3D.ny)):\n        arYdef = True\n    arZdef = False\n    if((dispFld3D.arZ != None) and (len(dispFld3D.arZ) == dispFld3D.nz)):\n        arZdef = True\n\n    nTot = dispFld3D.nx*dispFld3D.ny*dispFld3D.nz\n    arBxDef = False\n    if((dispFld3D.arBx != None) and (len(dispFld3D.arBx) == nTot)):\n        arBxDef = True\n    arByDef = False\n    if((dispFld3D.arBy != None) and (len(dispFld3D.arBy) == nTot)):\n        arByDef = True\n    arBzDef = False\n    if((dispFld3D.arBz != None) and (len(dispFld3D.arBz) == nTot)):\n        arBzDef = True\n\n    f = open(filePath, 'w')\n    resStr = '#X [m], Y [m], Z [m]'\n    if(arBxDef == True):\n        resStr += ', Bx [T]'\n    if(arByDef == True):\n        resStr += ', By [T]'\n    if(arBzDef == True):\n        resStr += ', Bz [T]'\n    f.write(resStr + '\\n')\n        \n    i = 0\n    z = zc - 0.5*dispFld3D.rz\n    for iz in range(dispFld3D.nz):\n        if(arZdef == True):\n            z = dispFld3D.arZ[iz] + zc\n        #print(z)\n        y = yc - 0.5*dispFld3D.ry\n        for iy in range(dispFld3D.ny):\n            if(arYdef == True):\n                y = dispFld3D.arY[iy] + yc\n            x = xc - 0.5*dispFld3D.rx\n            for ix in range(dispFld3D.nx):\n                if(arXdef == True):\n                    x = dispFld3D.arX[ix] + xc\n                resStr = repr(x) + '\\t' + repr(y) + '\\t' + repr(z)\n                if(arBxDef == True):\n                    resStr += '\\t' + repr(dispFld3D.arBx[i])\n                if(arByDef == True):\n                    resStr += '\\t' + repr(dispFld3D.arBy[i])\n                if(arBzDef == True):\n                    resStr += '\\t' + repr(dispFld3D.arBz[i])\n                f.write(resStr + '\\n')\n                i += 1\n                x += hx\n            y += hy\n        z += hz\n    f.close()\n\n#Auxiliary function to write tabulated resulting Trajectory data to ASCII file:\ndef AuxSaveTrajData(traj, filePath):\n    f = open(filePath, 'w')\n    resStr = '#ct [m], X [m], BetaX [rad], Y [m], BetaY [rad], Z [m], BetaZ [rad]'\n    if(hasattr(traj, 'arBx')):\n        resStr += ', Bx [T]'\n    if(hasattr(traj, 'arBy')):\n        resStr += ', By [T]'\n    if(hasattr(traj, 'arBz')):\n        resStr += ', Bz [T]'\n    f.write(resStr + '\\n')\n    ctStep = 0\n    if traj.np > 0:\n        ctStep = (traj.ctEnd - traj.ctStart)/(traj.np - 1)\n    ct = traj.ctStart\n    for i in range(traj.np):\n        resStr = str(ct) + '\\t' + repr(traj.arX[i]) + '\\t' + repr(traj.arXp[i]) + '\\t' + repr(traj.arY[i]) + '\\t' + repr(traj.arYp[i]) + '\\t' + repr(traj.arZ[i]) + '\\t' + repr(traj.arZp[i])\n        if(hasattr(traj, 'arBx')):\n            resStr += '\\t' + repr(traj.arBx[i])\n        if(hasattr(traj, 'arBy')):\n            resStr += '\\t' + repr(traj.arBy[i])\n        if(hasattr(traj, 'arBz')):\n            resStr += '\\t' + repr(traj.arBz[i])\n        f.write(resStr + '\\n')        \n        ct += ctStep\n    f.close()\n\nprint('   Saving trajectory data to a file ... ', end='')\nAuxSaveMagFldData(dispMagFld3D, 0, 0, 0, os.path.join(os.getcwd(), strExDataFolderName, strFldOutFileName))\nAuxSaveTrajData(partTraj, os.path.join(os.getcwd(), strExDataFolderName, strTrajOutFileName))\nprint('done')\n\n#**********************Plotting results\nprint('   Plotting the results (close all graph windows to proceed with the script execution) ... ', end='')\nctMesh = [partTraj.ctStart, partTraj.ctEnd, partTraj.np]\nfor i in range(partTraj.np): #converting from [m] to [mm] and from [rad] to [mrad]\n    partTraj.arXp[i] *= 1000\n    partTraj.arX[i] *= 1000\n    partTraj.arYp[i] *= 1000\n    partTraj.arY[i] *= 1000\nuti_plot1d(partTraj.arBy, ctMesh, ['ct [m]', 'Vertical Magnetic Field [T]'])\nuti_plot1d(partTraj.arXp, ctMesh, ['ct [m]', 'Horizontal Angle [mrad]'])\nuti_plot1d(partTraj.arX, ctMesh, ['ct [m]', 'Horizontal Position [mm]'])\nuti_plot1d(partTraj.arBx, ctMesh, ['ct [m]', 'Horizontal Magnetic Field [T]'])\nuti_plot1d(partTraj.arYp, ctMesh, ['ct [m]', 'Vertical Angle [mrad]'])\nuti_plot1d(partTraj.arY, ctMesh, ['ct [m]', 'Vertical Position [mm]'])\nuti_plot_show()\nprint('done')"
      ]
    }
  ],
  "metadata": {
    "kernelspec": {
      "display_name": "Python 3",
      "language": "python",
      "name": "python3"
    },
    "language_info": {
      "codemirror_mode": {
        "name": "ipython",
        "version": 3
      },
      "file_extension": ".py",
      "mimetype": "text/x-python",
      "name": "python",
      "nbconvert_exporter": "python",
      "pygments_lexer": "ipython3",
      "version": "3.6.3"
    }
  },
  "nbformat": 4,
  "nbformat_minor": 0
}