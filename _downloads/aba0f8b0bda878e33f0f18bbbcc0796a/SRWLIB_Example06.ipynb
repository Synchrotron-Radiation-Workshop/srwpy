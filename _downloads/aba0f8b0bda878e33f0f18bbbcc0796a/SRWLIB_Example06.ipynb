{
  "cells": [
    {
      "cell_type": "code",
      "execution_count": null,
      "metadata": {
        "collapsed": false
      },
      "outputs": [],
      "source": [
        "%matplotlib inline"
      ]
    },
    {
      "cell_type": "markdown",
      "metadata": {},
      "source": [
        "\nSRW Example #6\n**************\n\nProblem\n-------\nCalculating spectral flux of undulator radiation by finite-emittance electron\nbeam collected through a finite aperture and power density distribution of this\nradiation (integrated over all photon energies)\n\nExample Solution\n----------------\n\n"
      ]
    },
    {
      "cell_type": "code",
      "execution_count": null,
      "metadata": {
        "collapsed": false
      },
      "outputs": [],
      "source": [
        "from __future__ import print_function #Python 2.7 compatibility\nfrom srwlib import *\nfrom uti_plot import *\nimport os\nimport sys\n\nprint('SRWLIB Extended Example # 6:')\nprint('Calculating spectral flux of undulator radiation by finite-emittance electron beam collected through a finite aperture and power density distribution of this radiation (integrated over all photon energies)')\n\n#**********************Input Parameters:\nstrExDataFolderName = 'data_example_06' #example data sub-folder name\nstrFluxOutFileName = 'ex06_res_flux.dat' #file name for output UR flux data\nstrPowOutFileName = 'ex06_res_pow.dat' #file name for output power density data\nstrTrjOutFileName = 'ex06_res_trj.dat' #file name for output trajectory data\n\n#***********Undulator\nharmB = SRWLMagFldH() #magnetic field harmonic\nharmB.n = 1 #harmonic number\nharmB.h_or_v = 'v' #magnetic field plane: horzontal ('h') or vertical ('v')\nharmB.B = 1. #magnetic field amplitude [T]\nund = SRWLMagFldU([harmB])\nund.per = 0.02 #period length [m]\nund.nPer = 150 #number of periods (will be rounded to integer)\nmagFldCnt = SRWLMagFldC([und], array('d', [0]), array('d', [0]), array('d', [0])) #Container of all magnetic field elements\n\n#***********Electron Beam\neBeam = SRWLPartBeam()\neBeam.Iavg = 0.5 #average current [A]\neBeam.partStatMom1.x = 0. #initial transverse positions [m]\neBeam.partStatMom1.y = 0.\neBeam.partStatMom1.z = 0. #initial longitudinal positions (set in the middle of undulator)\neBeam.partStatMom1.xp = 0 #initial relative transverse velocities\neBeam.partStatMom1.yp = 0\neBeam.partStatMom1.gamma = 3./0.51099890221e-03 #relative energy\nsigEperE = 0.00089 #relative RMS energy spread\nsigX = 33.33e-06 #horizontal RMS size of e-beam [m]\nsigXp = 16.5e-06 #horizontal RMS angular divergence [rad]\nsigY = 2.912e-06 #vertical RMS size of e-beam [m]\nsigYp = 2.7472e-06 #vertical RMS angular divergence [rad]\n#2nd order stat. moments:\neBeam.arStatMom2[0] = sigX*sigX #<(x-<x>)^2> \neBeam.arStatMom2[1] = 0 #<(x-<x>)(x'-<x'>)>\neBeam.arStatMom2[2] = sigXp*sigXp #<(x'-<x'>)^2> \neBeam.arStatMom2[3] = sigY*sigY #<(y-<y>)^2>\neBeam.arStatMom2[4] = 0 #<(y-<y>)(y'-<y'>)>\neBeam.arStatMom2[5] = sigYp*sigYp #<(y'-<y'>)^2>\neBeam.arStatMom2[10] = sigEperE*sigEperE #<(E-<E>)^2>/<E>^2\n\n#***********Precision Parameters\narPrecF = [0]*5 #for spectral flux vs photon energy\narPrecF[0] = 1 #initial UR harmonic to take into account\narPrecF[1] = 21 #final UR harmonic to take into account\narPrecF[2] = 1.5 #longitudinal integration precision parameter\narPrecF[3] = 1.5 #azimuthal integration precision parameter\narPrecF[4] = 1 #calculate flux (1) or flux per unit surface (2)\n\narPrecP = [0]*5 #for power density\narPrecP[0] = 1.5 #precision factor\narPrecP[1] = 1 #power density computation method (1- \"near field\", 2- \"far field\")\narPrecP[2] = 0 #initial longitudinal position (effective if arPrecP[2] < arPrecP[3])\narPrecP[3] = 0 #final longitudinal position (effective if arPrecP[2] < arPrecP[3])\narPrecP[4] = 20000 #number of points for (intermediate) trajectory calculation\n\n#***********UR Stokes Parameters (mesh) for Spectral Flux\nstkF = SRWLStokes() #for spectral flux vs photon energy\nstkF.allocate(10000, 1, 1) #numbers of points vs photon energy, horizontal and vertical positions\nstkF.mesh.zStart = 30. #longitudinal position [m] at which UR has to be calculated\nstkF.mesh.eStart = 10. #initial photon energy [eV]\nstkF.mesh.eFin = 20000. #final photon energy [eV]\nstkF.mesh.xStart = -0.0015 #initial horizontal position [m]\nstkF.mesh.xFin = 0.0015 #final horizontal position [m]\nstkF.mesh.yStart = -0.00075 #initial vertical position [m]\nstkF.mesh.yFin = 0.00075 #final vertical position [m]\n\nstkP = SRWLStokes() #for power density\nstkP.allocate(1, 101, 101) #numbers of points vs horizontal and vertical positions (photon energy is not taken into account)\nstkP.mesh.zStart = 30. #longitudinal position [m] at which power density has to be calculated\nstkP.mesh.xStart = -0.02 #initial horizontal position [m]\nstkP.mesh.xFin = 0.02 #final horizontal position [m]\nstkP.mesh.yStart = -0.015 #initial vertical position [m]\nstkP.mesh.yFin = 0.015 #final vertical position [m]\n\n#stkPx = SRWLStokes() #for power density\n#stkPx.allocate(1, 101, 1) #numbers of points vs horizontal and vertical positions (photon energy is not taken into account)\n#stkPx.mesh.zStart = stkP.mesh.zStart #longitudinal position [m] at which power density has to be calculated\n#stkPx.mesh.xStart = stkP.mesh.xStart #initial horizontal position [m]\n#stkPx.mesh.xFin = stkP.mesh.xFin #final horizontal position [m]\n#stkPx.mesh.yStart = 0 #initial vertical position [m]\n#stkPx.mesh.yFin = 0 #final vertical position [m]\n\n#stkPy = SRWLStokes() #for power density\n#stkPy.allocate(1, 1, 101) #numbers of points vs horizontal and vertical positions (photon energy is not taken into account)\n#stkPy.mesh.zStart = stkP.mesh.zStart #longitudinal position [m] at which power density has to be calculated\n#stkPy.mesh.xStart = 0 #initial horizontal position [m]\n#stkPy.mesh.xFin = 0 #final horizontal position [m]\n#stkPy.mesh.yStart = stkP.mesh.yStart #initial vertical position [m]\n#stkPy.mesh.yFin = stkP.mesh.yFin #final vertical position [m]\n\n#sys.exit(0)\n\n#**********************Calculation (SRWLIB function calls)\nprint('   Performing Spectral Flux (Stokes parameters) calculation ... ', end='')\nsrwl.CalcStokesUR(stkF, eBeam, und, arPrecF)\nprint('done')\n\n#partTraj = SRWLPrtTrj() #defining auxiliary trajectory structure\n#partTraj.partInitCond = eBeam.partStatMom1\n#partTraj.allocate(20001) \n#partTraj.ctStart = -1.6 #Start Time for the calculation\n#partTraj.ctEnd = 1.6\n#partTraj = srwl.CalcPartTraj(partTraj, magFldCnt, [1])\n\n#print('   Performing Power Density calculation (from trajectory) ... ', end='')\n#srwl.CalcPowDenSR(stkP, eBeam, partTraj, 0, arPrecP)\n#print('done')\n\nprint('   Performing Power Density calculation (from field) ... ', end='')\nsrwl.CalcPowDenSR(stkP, eBeam, 0, magFldCnt, arPrecP)\n#srwl.CalcPowDenSR(stkPx, eBeam, 0, magFldCnt, arPrecP)\n#srwl.CalcPowDenSR(stkPy, eBeam, 0, magFldCnt, arPrecP)\nprint('done')\n\n#**********************Saving results\n#print('   Saving trajectory data to file ... ', end='')\n#partTraj.save_ascii(os.path.join(os.getcwd(), strExDataFolderName, strTrjOutFileName))\n#print('done')\n\nprint('   Saving intensity data to file ... ', end='')\nsrwl_uti_save_intens_ascii(stkF.arS, stkF.mesh, os.path.join(os.getcwd(), strExDataFolderName, strFluxOutFileName), 0, ['Photon Energy', '', '', 'Flux'], _arUnits=['eV', '', '', 'ph/s/.1%bw'])\nsrwl_uti_save_intens_ascii(stkP.arS, stkP.mesh, os.path.join(os.getcwd(), strExDataFolderName, strPowOutFileName), 0, ['', 'Horizontal Position', 'Vertical Position', 'Power Density'], _arUnits=['', 'm', 'm', 'W/mm^2'])\nprint('done')\n\n#**********************Plotting results (requires 3rd party graphics package)\nprint('   Plotting the results (blocks script execution; close any graph windows to proceed) ... ', end='')\n\nuti_plot1d(stkF.arS, [stkF.mesh.eStart, stkF.mesh.eFin, stkF.mesh.ne], ['Photon Energy [eV]', 'Flux [ph/s/.1%bw]', 'Flux through Finite Aperture'])\n\nplotMeshX = [1000*stkP.mesh.xStart, 1000*stkP.mesh.xFin, stkP.mesh.nx]\nplotMeshY = [1000*stkP.mesh.yStart, 1000*stkP.mesh.yFin, stkP.mesh.ny]\nuti_plot2d(stkP.arS, plotMeshX, plotMeshY, ['Horizontal Position [mm]', 'Vertical Position [mm]', 'Power Density'])\n#uti_plot1d(stkPx.arS, plotMeshX, ['Horizontal Position [mm]', 'Power Density [W/mm^2]', 'Power Density cut at y = 0'])\n#uti_plot1d(stkPy.arS, plotMeshY, ['Vertical Position [mm]', 'Power Density [W/mm^2]', 'Power Density cut at x = 0'])\n\npowDenVsX = array('f', [0]*stkP.mesh.nx)\nfor i in range(stkP.mesh.nx): powDenVsX[i] = stkP.arS[stkP.mesh.nx*int(stkP.mesh.ny*0.5) + i]\nuti_plot1d(powDenVsX, plotMeshX, ['Horizontal Position [mm]', 'Power Density [W/mm^2]', 'Power Density\\n(horizontal cut at y = 0)'])\n\npowDenVsY = array('f', [0]*stkP.mesh.ny)\nfor i in range(stkP.mesh.ny): powDenVsY[i] = stkP.arS[int(stkP.mesh.nx*0.5) + i*stkP.mesh.ny]\nuti_plot1d(powDenVsY, plotMeshY, ['Vertical Position [mm]', 'Power Density [W/mm^2]', 'Power Density\\n(vertical cut at x = 0)'])\n\nuti_plot_show() #show all graphs (blocks script execution; close all graph windows to proceed)\nprint('done')"
      ]
    }
  ],
  "metadata": {
    "kernelspec": {
      "display_name": "Python 3",
      "language": "python",
      "name": "python3"
    },
    "language_info": {
      "codemirror_mode": {
        "name": "ipython",
        "version": 3
      },
      "file_extension": ".py",
      "mimetype": "text/x-python",
      "name": "python",
      "nbconvert_exporter": "python",
      "pygments_lexer": "ipython3",
      "version": "3.6.3"
    }
  },
  "nbformat": 4,
  "nbformat_minor": 0
}